{
 "cells": [
  {
   "cell_type": "markdown",
   "id": "7bf22e78-25f7-4e20-a73d-e0f55797fc25",
   "metadata": {},
   "source": [
    "Bu proje, Boston'daki gayrimenkul fiyatlarını tahmin etmek amacıyla regresyon ağaçları (regression trees) kullanarak bir model oluşturmayı hedeflemektedir. Veriler, çeşitli bölgelerdeki evlerin ortalama fiyatını etkileyen faktörleri içermektedir. Bu projede, regresyon ağaçları kullanarak modelin nasıl eğitileceği, performansının nasıl değerlendirileceği ve tahmin hatalarının nasıl hesaplanacağı incelenmektedir. Sonuç olarak, modelin doğru fiyat tahminleri yapıp yapmadığını belirlemek için R² değeri ve ortalama hata gibi metrikler kullanılacaktır."
   ]
  },
  {
   "cell_type": "markdown",
   "id": "4b847c97-52ba-442f-a4ce-9d579cf2b154",
   "metadata": {},
   "source": [
    "# Veriyi Okuma\n"
   ]
  },
  {
   "cell_type": "code",
   "execution_count": 66,
   "id": "7c134ebb-31ef-413b-ad0e-3893f772f00b",
   "metadata": {},
   "outputs": [
    {
     "data": {
      "text/html": [
       "<div>\n",
       "<style scoped>\n",
       "    .dataframe tbody tr th:only-of-type {\n",
       "        vertical-align: middle;\n",
       "    }\n",
       "\n",
       "    .dataframe tbody tr th {\n",
       "        vertical-align: top;\n",
       "    }\n",
       "\n",
       "    .dataframe thead th {\n",
       "        text-align: right;\n",
       "    }\n",
       "</style>\n",
       "<table border=\"1\" class=\"dataframe\">\n",
       "  <thead>\n",
       "    <tr style=\"text-align: right;\">\n",
       "      <th></th>\n",
       "      <th>tx_price</th>\n",
       "      <th>beds</th>\n",
       "      <th>baths</th>\n",
       "      <th>sqft</th>\n",
       "      <th>year_built</th>\n",
       "      <th>lot_size</th>\n",
       "      <th>property_type</th>\n",
       "      <th>exterior_walls</th>\n",
       "      <th>roof</th>\n",
       "      <th>basement</th>\n",
       "      <th>...</th>\n",
       "      <th>beauty_spas</th>\n",
       "      <th>active_life</th>\n",
       "      <th>median_age</th>\n",
       "      <th>married</th>\n",
       "      <th>college_grad</th>\n",
       "      <th>property_tax</th>\n",
       "      <th>insurance</th>\n",
       "      <th>median_school</th>\n",
       "      <th>num_schools</th>\n",
       "      <th>tx_year</th>\n",
       "    </tr>\n",
       "  </thead>\n",
       "  <tbody>\n",
       "    <tr>\n",
       "      <th>0</th>\n",
       "      <td>295850</td>\n",
       "      <td>1</td>\n",
       "      <td>1</td>\n",
       "      <td>584</td>\n",
       "      <td>2013</td>\n",
       "      <td>0</td>\n",
       "      <td>Apartment / Condo / Townhouse</td>\n",
       "      <td>Wood Siding</td>\n",
       "      <td>NaN</td>\n",
       "      <td>NaN</td>\n",
       "      <td>...</td>\n",
       "      <td>47</td>\n",
       "      <td>58</td>\n",
       "      <td>33.0</td>\n",
       "      <td>65.0</td>\n",
       "      <td>84.0</td>\n",
       "      <td>234.0</td>\n",
       "      <td>81.0</td>\n",
       "      <td>9.0</td>\n",
       "      <td>3.0</td>\n",
       "      <td>2013</td>\n",
       "    </tr>\n",
       "    <tr>\n",
       "      <th>1</th>\n",
       "      <td>216500</td>\n",
       "      <td>1</td>\n",
       "      <td>1</td>\n",
       "      <td>612</td>\n",
       "      <td>1965</td>\n",
       "      <td>0</td>\n",
       "      <td>Apartment / Condo / Townhouse</td>\n",
       "      <td>Brick</td>\n",
       "      <td>Composition Shingle</td>\n",
       "      <td>1.0</td>\n",
       "      <td>...</td>\n",
       "      <td>26</td>\n",
       "      <td>14</td>\n",
       "      <td>39.0</td>\n",
       "      <td>73.0</td>\n",
       "      <td>69.0</td>\n",
       "      <td>169.0</td>\n",
       "      <td>51.0</td>\n",
       "      <td>3.0</td>\n",
       "      <td>3.0</td>\n",
       "      <td>2006</td>\n",
       "    </tr>\n",
       "    <tr>\n",
       "      <th>2</th>\n",
       "      <td>279900</td>\n",
       "      <td>1</td>\n",
       "      <td>1</td>\n",
       "      <td>615</td>\n",
       "      <td>1963</td>\n",
       "      <td>0</td>\n",
       "      <td>Apartment / Condo / Townhouse</td>\n",
       "      <td>Wood Siding</td>\n",
       "      <td>NaN</td>\n",
       "      <td>NaN</td>\n",
       "      <td>...</td>\n",
       "      <td>74</td>\n",
       "      <td>62</td>\n",
       "      <td>28.0</td>\n",
       "      <td>15.0</td>\n",
       "      <td>86.0</td>\n",
       "      <td>216.0</td>\n",
       "      <td>74.0</td>\n",
       "      <td>8.0</td>\n",
       "      <td>3.0</td>\n",
       "      <td>2012</td>\n",
       "    </tr>\n",
       "    <tr>\n",
       "      <th>3</th>\n",
       "      <td>379900</td>\n",
       "      <td>1</td>\n",
       "      <td>1</td>\n",
       "      <td>618</td>\n",
       "      <td>2000</td>\n",
       "      <td>33541</td>\n",
       "      <td>Apartment / Condo / Townhouse</td>\n",
       "      <td>Wood Siding</td>\n",
       "      <td>NaN</td>\n",
       "      <td>NaN</td>\n",
       "      <td>...</td>\n",
       "      <td>72</td>\n",
       "      <td>83</td>\n",
       "      <td>36.0</td>\n",
       "      <td>25.0</td>\n",
       "      <td>91.0</td>\n",
       "      <td>265.0</td>\n",
       "      <td>92.0</td>\n",
       "      <td>9.0</td>\n",
       "      <td>3.0</td>\n",
       "      <td>2005</td>\n",
       "    </tr>\n",
       "    <tr>\n",
       "      <th>4</th>\n",
       "      <td>340000</td>\n",
       "      <td>1</td>\n",
       "      <td>1</td>\n",
       "      <td>634</td>\n",
       "      <td>1992</td>\n",
       "      <td>0</td>\n",
       "      <td>Apartment / Condo / Townhouse</td>\n",
       "      <td>Brick</td>\n",
       "      <td>NaN</td>\n",
       "      <td>NaN</td>\n",
       "      <td>...</td>\n",
       "      <td>50</td>\n",
       "      <td>73</td>\n",
       "      <td>37.0</td>\n",
       "      <td>20.0</td>\n",
       "      <td>75.0</td>\n",
       "      <td>88.0</td>\n",
       "      <td>30.0</td>\n",
       "      <td>9.0</td>\n",
       "      <td>3.0</td>\n",
       "      <td>2002</td>\n",
       "    </tr>\n",
       "  </tbody>\n",
       "</table>\n",
       "<p>5 rows × 26 columns</p>\n",
       "</div>"
      ],
      "text/plain": [
       "   tx_price  beds  baths  sqft  year_built  lot_size  \\\n",
       "0    295850     1      1   584        2013         0   \n",
       "1    216500     1      1   612        1965         0   \n",
       "2    279900     1      1   615        1963         0   \n",
       "3    379900     1      1   618        2000     33541   \n",
       "4    340000     1      1   634        1992         0   \n",
       "\n",
       "                   property_type exterior_walls                 roof  \\\n",
       "0  Apartment / Condo / Townhouse    Wood Siding                  NaN   \n",
       "1  Apartment / Condo / Townhouse          Brick  Composition Shingle   \n",
       "2  Apartment / Condo / Townhouse    Wood Siding                  NaN   \n",
       "3  Apartment / Condo / Townhouse    Wood Siding                  NaN   \n",
       "4  Apartment / Condo / Townhouse          Brick                  NaN   \n",
       "\n",
       "   basement  ...  beauty_spas  active_life  median_age  married  college_grad  \\\n",
       "0       NaN  ...           47           58        33.0     65.0          84.0   \n",
       "1       1.0  ...           26           14        39.0     73.0          69.0   \n",
       "2       NaN  ...           74           62        28.0     15.0          86.0   \n",
       "3       NaN  ...           72           83        36.0     25.0          91.0   \n",
       "4       NaN  ...           50           73        37.0     20.0          75.0   \n",
       "\n",
       "   property_tax  insurance  median_school  num_schools  tx_year  \n",
       "0         234.0       81.0            9.0          3.0     2013  \n",
       "1         169.0       51.0            3.0          3.0     2006  \n",
       "2         216.0       74.0            8.0          3.0     2012  \n",
       "3         265.0       92.0            9.0          3.0     2005  \n",
       "4          88.0       30.0            9.0          3.0     2002  \n",
       "\n",
       "[5 rows x 26 columns]"
      ]
     },
     "execution_count": 66,
     "metadata": {},
     "output_type": "execute_result"
    }
   ],
   "source": [
    "import pandas as pd\n",
    "\n",
    "data = pd.read_csv('real_estate_data.csv')\n",
    "\n",
    "data.head()"
   ]
  },
  {
   "cell_type": "markdown",
   "id": "1e9b15ff-a493-4ee4-8333-191bbe092e48",
   "metadata": {},
   "source": [
    "# Veri Boyutunu İnceleme"
   ]
  },
  {
   "cell_type": "code",
   "execution_count": 67,
   "id": "ba04e978-e777-47de-bcff-8cae70d1b72b",
   "metadata": {},
   "outputs": [
    {
     "data": {
      "text/plain": [
       "(1883, 26)"
      ]
     },
     "execution_count": 67,
     "metadata": {},
     "output_type": "execute_result"
    }
   ],
   "source": [
    "data.shape\n"
   ]
  },
  {
   "cell_type": "markdown",
   "id": "c5785992-fb6f-4930-961a-376472cca08a",
   "metadata": {},
   "source": [
    "# Eksik Değerlerin Kontrolü"
   ]
  },
  {
   "cell_type": "code",
   "execution_count": 68,
   "id": "1fd2e96d-9f67-4758-8fc1-48c51ff69647",
   "metadata": {},
   "outputs": [
    {
     "data": {
      "text/plain": [
       "tx_price                0\n",
       "beds                    0\n",
       "baths                   0\n",
       "sqft                    0\n",
       "year_built              0\n",
       "lot_size                0\n",
       "property_type           0\n",
       "exterior_walls        223\n",
       "roof                  354\n",
       "basement              226\n",
       "restaurants             0\n",
       "groceries               0\n",
       "nightlife               0\n",
       "cafes                   0\n",
       "shopping                0\n",
       "arts_entertainment      0\n",
       "beauty_spas             0\n",
       "active_life             0\n",
       "median_age              0\n",
       "married                 0\n",
       "college_grad            0\n",
       "property_tax            0\n",
       "insurance               0\n",
       "median_school           0\n",
       "num_schools             0\n",
       "tx_year                 0\n",
       "dtype: int64"
      ]
     },
     "execution_count": 68,
     "metadata": {},
     "output_type": "execute_result"
    }
   ],
   "source": [
    "data.isna().sum()\n"
   ]
  },
  {
   "cell_type": "markdown",
   "id": "0154d807-b5ff-4c86-bedc-4e6be82a8697",
   "metadata": {},
   "source": [
    "# Veri Ön İşleme"
   ]
  },
  {
   "cell_type": "code",
   "execution_count": 69,
   "id": "02508144-ea55-4413-8817-75c1152e1f84",
   "metadata": {},
   "outputs": [
    {
     "data": {
      "text/plain": [
       "tx_price              0\n",
       "beds                  0\n",
       "baths                 0\n",
       "sqft                  0\n",
       "year_built            0\n",
       "lot_size              0\n",
       "property_type         0\n",
       "exterior_walls        0\n",
       "roof                  0\n",
       "basement              0\n",
       "restaurants           0\n",
       "groceries             0\n",
       "nightlife             0\n",
       "cafes                 0\n",
       "shopping              0\n",
       "arts_entertainment    0\n",
       "beauty_spas           0\n",
       "active_life           0\n",
       "median_age            0\n",
       "married               0\n",
       "college_grad          0\n",
       "property_tax          0\n",
       "insurance             0\n",
       "median_school         0\n",
       "num_schools           0\n",
       "tx_year               0\n",
       "dtype: int64"
      ]
     },
     "execution_count": 69,
     "metadata": {},
     "output_type": "execute_result"
    }
   ],
   "source": [
    "data.dropna(inplace=True)\n",
    "data.isna().sum()\n"
   ]
  },
  {
   "cell_type": "markdown",
   "id": "26e798a9-de35-4335-b21e-8cea8d3dd076",
   "metadata": {},
   "source": [
    "#  Özellik ve Hedef Değişkenlerin Belirlenmesi"
   ]
  },
  {
   "cell_type": "code",
   "execution_count": 70,
   "id": "560c934e-7130-4065-87b5-83c1a0170015",
   "metadata": {},
   "outputs": [],
   "source": [
    "X = data.drop(columns=[\"tx_price\"])\n",
    "Y = data[\"tx_price\"]\n"
   ]
  },
  {
   "cell_type": "markdown",
   "id": "e1f5d3de-7fdb-4bf3-b1e0-0b7c74c098c8",
   "metadata": {},
   "source": [
    "# Eğitim ve Test Verisine Ayırma"
   ]
  },
  {
   "cell_type": "code",
   "execution_count": 71,
   "id": "09e2e9a4-6d97-41ed-ac92-dd34fb05fded",
   "metadata": {},
   "outputs": [],
   "source": [
    "from sklearn.model_selection import train_test_split\n",
    "X_train, X_test, Y_train, Y_test = train_test_split(X, Y, test_size=0.2, random_state=1)\n"
   ]
  },
  {
   "cell_type": "markdown",
   "id": "37a20cab-c7d1-442e-b860-eb0b99e0ad16",
   "metadata": {},
   "source": [
    "# Regresyon Ağacının Oluşturulması"
   ]
  },
  {
   "cell_type": "code",
   "execution_count": 72,
   "id": "c8764927-282d-4f6e-84ab-6b641dde6461",
   "metadata": {},
   "outputs": [],
   "source": [
    "from sklearn.tree import DecisionTreeRegressor\n",
    "regression_tree = DecisionTreeRegressor(criterion=\"squared_error\")\n"
   ]
  },
  {
   "cell_type": "markdown",
   "id": "d0f4d1d1-646c-4f34-b09f-bd94beaac672",
   "metadata": {},
   "source": [
    "#  Modelin Eğitilmesi"
   ]
  },
  {
   "cell_type": "code",
   "execution_count": 73,
   "id": "fd95cbbf-ddc8-4e1e-bda2-aff24b5045bd",
   "metadata": {},
   "outputs": [
    {
     "data": {
      "text/html": [
       "<style>#sk-container-id-4 {color: black;background-color: white;}#sk-container-id-4 pre{padding: 0;}#sk-container-id-4 div.sk-toggleable {background-color: white;}#sk-container-id-4 label.sk-toggleable__label {cursor: pointer;display: block;width: 100%;margin-bottom: 0;padding: 0.3em;box-sizing: border-box;text-align: center;}#sk-container-id-4 label.sk-toggleable__label-arrow:before {content: \"▸\";float: left;margin-right: 0.25em;color: #696969;}#sk-container-id-4 label.sk-toggleable__label-arrow:hover:before {color: black;}#sk-container-id-4 div.sk-estimator:hover label.sk-toggleable__label-arrow:before {color: black;}#sk-container-id-4 div.sk-toggleable__content {max-height: 0;max-width: 0;overflow: hidden;text-align: left;background-color: #f0f8ff;}#sk-container-id-4 div.sk-toggleable__content pre {margin: 0.2em;color: black;border-radius: 0.25em;background-color: #f0f8ff;}#sk-container-id-4 input.sk-toggleable__control:checked~div.sk-toggleable__content {max-height: 200px;max-width: 100%;overflow: auto;}#sk-container-id-4 input.sk-toggleable__control:checked~label.sk-toggleable__label-arrow:before {content: \"▾\";}#sk-container-id-4 div.sk-estimator input.sk-toggleable__control:checked~label.sk-toggleable__label {background-color: #d4ebff;}#sk-container-id-4 div.sk-label input.sk-toggleable__control:checked~label.sk-toggleable__label {background-color: #d4ebff;}#sk-container-id-4 input.sk-hidden--visually {border: 0;clip: rect(1px 1px 1px 1px);clip: rect(1px, 1px, 1px, 1px);height: 1px;margin: -1px;overflow: hidden;padding: 0;position: absolute;width: 1px;}#sk-container-id-4 div.sk-estimator {font-family: monospace;background-color: #f0f8ff;border: 1px dotted black;border-radius: 0.25em;box-sizing: border-box;margin-bottom: 0.5em;}#sk-container-id-4 div.sk-estimator:hover {background-color: #d4ebff;}#sk-container-id-4 div.sk-parallel-item::after {content: \"\";width: 100%;border-bottom: 1px solid gray;flex-grow: 1;}#sk-container-id-4 div.sk-label:hover label.sk-toggleable__label {background-color: #d4ebff;}#sk-container-id-4 div.sk-serial::before {content: \"\";position: absolute;border-left: 1px solid gray;box-sizing: border-box;top: 0;bottom: 0;left: 50%;z-index: 0;}#sk-container-id-4 div.sk-serial {display: flex;flex-direction: column;align-items: center;background-color: white;padding-right: 0.2em;padding-left: 0.2em;position: relative;}#sk-container-id-4 div.sk-item {position: relative;z-index: 1;}#sk-container-id-4 div.sk-parallel {display: flex;align-items: stretch;justify-content: center;background-color: white;position: relative;}#sk-container-id-4 div.sk-item::before, #sk-container-id-4 div.sk-parallel-item::before {content: \"\";position: absolute;border-left: 1px solid gray;box-sizing: border-box;top: 0;bottom: 0;left: 50%;z-index: -1;}#sk-container-id-4 div.sk-parallel-item {display: flex;flex-direction: column;z-index: 1;position: relative;background-color: white;}#sk-container-id-4 div.sk-parallel-item:first-child::after {align-self: flex-end;width: 50%;}#sk-container-id-4 div.sk-parallel-item:last-child::after {align-self: flex-start;width: 50%;}#sk-container-id-4 div.sk-parallel-item:only-child::after {width: 0;}#sk-container-id-4 div.sk-dashed-wrapped {border: 1px dashed gray;margin: 0 0.4em 0.5em 0.4em;box-sizing: border-box;padding-bottom: 0.4em;background-color: white;}#sk-container-id-4 div.sk-label label {font-family: monospace;font-weight: bold;display: inline-block;line-height: 1.2em;}#sk-container-id-4 div.sk-label-container {text-align: center;}#sk-container-id-4 div.sk-container {/* jupyter's `normalize.less` sets `[hidden] { display: none; }` but bootstrap.min.css set `[hidden] { display: none !important; }` so we also need the `!important` here to be able to override the default hidden behavior on the sphinx rendered scikit-learn.org. See: https://github.com/scikit-learn/scikit-learn/issues/21755 */display: inline-block !important;position: relative;}#sk-container-id-4 div.sk-text-repr-fallback {display: none;}</style><div id=\"sk-container-id-4\" class=\"sk-top-container\"><div class=\"sk-text-repr-fallback\"><pre>DecisionTreeRegressor()</pre><b>In a Jupyter environment, please rerun this cell to show the HTML representation or trust the notebook. <br />On GitHub, the HTML representation is unable to render, please try loading this page with nbviewer.org.</b></div><div class=\"sk-container\" hidden><div class=\"sk-item\"><div class=\"sk-estimator sk-toggleable\"><input class=\"sk-toggleable__control sk-hidden--visually\" id=\"sk-estimator-id-4\" type=\"checkbox\" checked><label for=\"sk-estimator-id-4\" class=\"sk-toggleable__label sk-toggleable__label-arrow\">DecisionTreeRegressor</label><div class=\"sk-toggleable__content\"><pre>DecisionTreeRegressor()</pre></div></div></div></div></div>"
      ],
      "text/plain": [
       "DecisionTreeRegressor()"
      ]
     },
     "execution_count": 73,
     "metadata": {},
     "output_type": "execute_result"
    }
   ],
   "source": [
    "X_train = pd.get_dummies(X_train, drop_first=True) #X_train veri setindeki kategorik değişkenler, sayısal değerlere dönüştürülüyor\n",
    "X_test = pd.get_dummies(X_test, drop_first=True)\n",
    "X_test = X_test.reindex(columns=X_train.columns, fill_value=0)\n",
    "\n",
    "regression_tree.fit(X_train, Y_train)\n"
   ]
  },
  {
   "cell_type": "markdown",
   "id": "abbd8fd6-aac9-43a6-a593-614408c23da7",
   "metadata": {},
   "source": [
    "# Modelin Değerlendirilmesi"
   ]
  },
  {
   "cell_type": "code",
   "execution_count": 74,
   "id": "97681990-aee4-4ee5-b3c1-703067e4a41e",
   "metadata": {},
   "outputs": [
    {
     "name": "stdout",
     "output_type": "stream",
     "text": [
      "0.584942253801995\n"
     ]
    }
   ],
   "source": [
    "score = regression_tree.score(X_test, Y_test)\n",
    "print(score)"
   ]
  },
  {
   "cell_type": "markdown",
   "id": "5dfcda82-db1e-4e22-868b-2c2d06d9d35b",
   "metadata": {},
   "source": [
    "Bu sonuc, modelin bazı ölçüde etkili olduğunu, ancak iyileştirmeye ihtiyaç duyduğunu gösterir.\n",
    "\n",
    "Geliştirme Olanakları: Modelin performansını artırmak için:\n",
    "\n",
    "Daha fazla özellik eklemeyi düşünebilirsiniz.\n",
    "Model parametrelerini optimize edebilir (örneğin, derinliği ayarlayarak).\n",
    "Farklı bir model (örneğin, rastgele orman, destek vektör makineleri) deneyebilirsiniz."
   ]
  },
  {
   "cell_type": "markdown",
   "id": "76dd50ac-6f53-4bbd-ae51-7ec7a6dc7785",
   "metadata": {},
   "source": [
    "# Ortalama Hatanın Hesaplanması"
   ]
  },
  {
   "cell_type": "code",
   "execution_count": 76,
   "id": "41a18923-9332-4d08-8061-1214ff860b01",
   "metadata": {},
   "outputs": [
    {
     "name": "stdout",
     "output_type": "stream",
     "text": [
      "$ 70120368.21705426\n"
     ]
    }
   ],
   "source": [
    "import numpy as np\n",
    "\n",
    "# Tahminleri yap\n",
    "prediction = regression_tree.predict(X_test)\n",
    "\n",
    "# Ortalama hatayı hesapla\n",
    "average_error = np.abs(prediction - Y_test.values).mean() * 1000  # NumPy kullan\n",
    "print(\"$\", average_error)"
   ]
  },
  {
   "cell_type": "markdown",
   "id": "1a752baf-db4e-4dfd-89ef-cd9b4f9fcc96",
   "metadata": {},
   "source": [
    "Tahmin: regression_tree.predict(X_test) ile modelin test verisi üzerindeki tahminleri alınır.\n",
    "\n",
    "Hata Hesaplama: (prediction - Y_test).abs().mean() ifadesi, tahmin ile gerçek değerler arasındaki mutlak farkların ortalamasını hesaplar. Bu, ortalama mutlak hatayı (MAE) verir.\n",
    "\n",
    "Büyütme: Sonuç, 1000 ile çarpılır. Bu, hata değerini daha anlamlı bir ölçekte (örneğin, bin dolara kadar) ifade etmek içindir.\n",
    "\n",
    "Sonuç: Son olarak, hesaplanan hata değeri ekrana yazdırılır.\n",
    "\n",
    "70334290.70 dolarlık bir ortalama hata oldukça yüksek. Bu, modelin test verisi üzerindeki tahminlerinin genellikle gerçek değerlere göre büyük sapmalar gösterdiğini gösteriyor. Bu durumda, modelin performansını artırmak için özellik mühendisliği, daha uygun bir model seçimi veya hiperparametre ayarlamaları gibi adımları değerlendirmek faydalı olabilir. Ayrıca, verilerin kalitesini ve dağılımını incelemek de önemli olabilir."
   ]
  },
  {
   "cell_type": "markdown",
   "id": "589d31ac-950f-47d9-8b5c-5b39eb90b1ae",
   "metadata": {},
   "source": [
    "# Alternatif Kriter ile Model Eğitimi"
   ]
  },
  {
   "cell_type": "code",
   "execution_count": 56,
   "id": "0fe07d6a-0bd7-4c6e-9442-95acd635f11f",
   "metadata": {},
   "outputs": [
    {
     "name": "stdout",
     "output_type": "stream",
     "text": [
      "0.526655008650937\n",
      "$ 76293379.84496124\n"
     ]
    }
   ],
   "source": [
    "regression_tree = DecisionTreeRegressor(criterion=\"absolute_error\")\n",
    "regression_tree.fit(X_train, Y_train)\n",
    "print(regression_tree.score(X_test, Y_test))\n",
    "prediction = regression_tree.predict(X_test)\n",
    "print(\"$\", (prediction - Y_test).abs().mean() * 1000)"
   ]
  },
  {
   "cell_type": "code",
   "execution_count": null,
   "id": "e4b7469e-42fc-479a-af18-f315e3f21c7d",
   "metadata": {},
   "outputs": [],
   "source": []
  }
 ],
 "metadata": {
  "kernelspec": {
   "display_name": "Python 3 (ipykernel)",
   "language": "python",
   "name": "python3"
  },
  "language_info": {
   "codemirror_mode": {
    "name": "ipython",
    "version": 3
   },
   "file_extension": ".py",
   "mimetype": "text/x-python",
   "name": "python",
   "nbconvert_exporter": "python",
   "pygments_lexer": "ipython3",
   "version": "3.11.7"
  }
 },
 "nbformat": 4,
 "nbformat_minor": 5
}
