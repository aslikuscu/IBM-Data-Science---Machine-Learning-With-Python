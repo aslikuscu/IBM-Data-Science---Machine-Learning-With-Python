{
 "cells": [
  {
   "cell_type": "markdown",
   "id": "d6a518e5-6d83-4d3f-9c5b-cb98cf2ac079",
   "metadata": {},
   "source": [
    "Bu egzersiz oturumunda, dolandırıcı kredi kartı işlemlerini tanımak için iki popüler sınıflandırma modeli olan Karar Ağaçları ve Destek Vektör Makineleri'ni kullanarak makine öğrenimi becerilerinizi pekiştireceksiniz. Eylül 2013'te Avrupa kart sahipleri tarafından yapılan kredi kartı işlemlerine dair gerçek bir veri seti kullanarak, her iki modeli eğitecek ve bir kredi kartı işleminin meşru mu yoksa dolandırıcılık mı olduğunu değerlendireceksiniz. Ayrıca, Scikit-Learn Python arayüzü ile birlikte IBM'in yüksek performanslı Snap Machine Learning kütüphanesinin Python API'sini de kullanarak, ML algoritmalarını CPU/GPU üzerinde hızlandıracak ve en iyi doğrulukta sonuçlar elde edeceksiniz."
   ]
  },
  {
   "cell_type": "markdown",
   "id": "0834c49a-2e20-4b12-bc6b-e80aa6068145",
   "metadata": {},
   "source": [
    "# 1. Gerekli Kütüphanelerin Kurulumu"
   ]
  },
  {
   "cell_type": "code",
   "execution_count": 4,
   "id": "12e8b6be-bec6-4364-8cb2-6959c644b734",
   "metadata": {},
   "outputs": [
    {
     "name": "stdout",
     "output_type": "stream",
     "text": [
      "Requirement already satisfied: opendatasets in c:\\users\\asli_\\anaconda3\\lib\\site-packages (0.1.22)\n",
      "Requirement already satisfied: tqdm in c:\\users\\asli_\\anaconda3\\lib\\site-packages (from opendatasets) (4.65.0)\n",
      "Requirement already satisfied: kaggle in c:\\users\\asli_\\anaconda3\\lib\\site-packages (from opendatasets) (1.6.17)\n",
      "Requirement already satisfied: click in c:\\users\\asli_\\anaconda3\\lib\\site-packages (from opendatasets) (8.1.7)\n",
      "Requirement already satisfied: colorama in c:\\users\\asli_\\anaconda3\\lib\\site-packages (from click->opendatasets) (0.4.6)\n",
      "Requirement already satisfied: six>=1.10 in c:\\users\\asli_\\anaconda3\\lib\\site-packages (from kaggle->opendatasets) (1.16.0)\n",
      "Requirement already satisfied: certifi>=2023.7.22 in c:\\users\\asli_\\anaconda3\\lib\\site-packages (from kaggle->opendatasets) (2024.2.2)\n",
      "Requirement already satisfied: python-dateutil in c:\\users\\asli_\\anaconda3\\lib\\site-packages (from kaggle->opendatasets) (2.8.2)\n",
      "Requirement already satisfied: requests in c:\\users\\asli_\\anaconda3\\lib\\site-packages (from kaggle->opendatasets) (2.32.3)\n",
      "Requirement already satisfied: python-slugify in c:\\users\\asli_\\anaconda3\\lib\\site-packages (from kaggle->opendatasets) (5.0.2)\n",
      "Requirement already satisfied: urllib3 in c:\\users\\asli_\\anaconda3\\lib\\site-packages (from kaggle->opendatasets) (2.0.7)\n",
      "Requirement already satisfied: bleach in c:\\users\\asli_\\anaconda3\\lib\\site-packages (from kaggle->opendatasets) (4.1.0)\n",
      "Requirement already satisfied: packaging in c:\\users\\asli_\\anaconda3\\lib\\site-packages (from bleach->kaggle->opendatasets) (23.1)\n",
      "Requirement already satisfied: webencodings in c:\\users\\asli_\\anaconda3\\lib\\site-packages (from bleach->kaggle->opendatasets) (0.5.1)\n",
      "Requirement already satisfied: text-unidecode>=1.3 in c:\\users\\asli_\\anaconda3\\lib\\site-packages (from python-slugify->kaggle->opendatasets) (1.3)\n",
      "Requirement already satisfied: charset-normalizer<4,>=2 in c:\\users\\asli_\\anaconda3\\lib\\site-packages (from requests->kaggle->opendatasets) (2.0.4)\n",
      "Requirement already satisfied: idna<4,>=2.5 in c:\\users\\asli_\\anaconda3\\lib\\site-packages (from requests->kaggle->opendatasets) (3.4)\n",
      "Requirement already satisfied: snapml in c:\\users\\asli_\\anaconda3\\lib\\site-packages (1.15.6)\n",
      "Requirement already satisfied: scikit-learn in c:\\users\\asli_\\anaconda3\\lib\\site-packages (from snapml) (1.2.2)\n",
      "Requirement already satisfied: scipy in c:\\users\\asli_\\anaconda3\\lib\\site-packages (from snapml) (1.11.4)\n",
      "Requirement already satisfied: numpy>=1.23.2 in c:\\users\\asli_\\anaconda3\\lib\\site-packages (from snapml) (1.26.4)\n",
      "Requirement already satisfied: joblib>=1.1.1 in c:\\users\\asli_\\anaconda3\\lib\\site-packages (from scikit-learn->snapml) (1.2.0)\n",
      "Requirement already satisfied: threadpoolctl>=2.0.0 in c:\\users\\asli_\\anaconda3\\lib\\site-packages (from scikit-learn->snapml) (2.2.0)\n"
     ]
    }
   ],
   "source": [
    "!pip install opendatasets\n",
    "!pip install snapml"
   ]
  },
  {
   "cell_type": "markdown",
   "id": "b5cc78b2-ae38-49ca-b46a-3d2a413da2cd",
   "metadata": {},
   "source": [
    "# 2. Veri Setinin Okunması"
   ]
  },
  {
   "cell_type": "code",
   "execution_count": 20,
   "id": "29755255-4a63-45d9-b090-bb1d11d2b342",
   "metadata": {},
   "outputs": [
    {
     "name": "stdout",
     "output_type": "stream",
     "text": [
      "Toplam satir sayısı:  56874\n",
      "Toplam sutun sayısı:  31\n"
     ]
    },
    {
     "data": {
      "text/html": [
       "<div>\n",
       "<style scoped>\n",
       "    .dataframe tbody tr th:only-of-type {\n",
       "        vertical-align: middle;\n",
       "    }\n",
       "\n",
       "    .dataframe tbody tr th {\n",
       "        vertical-align: top;\n",
       "    }\n",
       "\n",
       "    .dataframe thead th {\n",
       "        text-align: right;\n",
       "    }\n",
       "</style>\n",
       "<table border=\"1\" class=\"dataframe\">\n",
       "  <thead>\n",
       "    <tr style=\"text-align: right;\">\n",
       "      <th></th>\n",
       "      <th>Time</th>\n",
       "      <th>V1</th>\n",
       "      <th>V2</th>\n",
       "      <th>V3</th>\n",
       "      <th>V4</th>\n",
       "      <th>V5</th>\n",
       "      <th>V6</th>\n",
       "      <th>V7</th>\n",
       "      <th>V8</th>\n",
       "      <th>V9</th>\n",
       "      <th>...</th>\n",
       "      <th>V21</th>\n",
       "      <th>V22</th>\n",
       "      <th>V23</th>\n",
       "      <th>V24</th>\n",
       "      <th>V25</th>\n",
       "      <th>V26</th>\n",
       "      <th>V27</th>\n",
       "      <th>V28</th>\n",
       "      <th>Amount</th>\n",
       "      <th>Class</th>\n",
       "    </tr>\n",
       "  </thead>\n",
       "  <tbody>\n",
       "    <tr>\n",
       "      <th>0</th>\n",
       "      <td>10</td>\n",
       "      <td>0.385</td>\n",
       "      <td>0.616</td>\n",
       "      <td>-0.874</td>\n",
       "      <td>-0.094</td>\n",
       "      <td>2.925</td>\n",
       "      <td>3.317</td>\n",
       "      <td>0.470</td>\n",
       "      <td>0.538</td>\n",
       "      <td>-0.559</td>\n",
       "      <td>...</td>\n",
       "      <td>0.050</td>\n",
       "      <td>0.238</td>\n",
       "      <td>0.009</td>\n",
       "      <td>0.997</td>\n",
       "      <td>-0.767</td>\n",
       "      <td>-0.492</td>\n",
       "      <td>0.042</td>\n",
       "      <td>-0.054</td>\n",
       "      <td>9.99</td>\n",
       "      <td>0</td>\n",
       "    </tr>\n",
       "    <tr>\n",
       "      <th>1</th>\n",
       "      <td>12</td>\n",
       "      <td>-0.752</td>\n",
       "      <td>0.345</td>\n",
       "      <td>2.057</td>\n",
       "      <td>-1.469</td>\n",
       "      <td>-1.158</td>\n",
       "      <td>-0.078</td>\n",
       "      <td>-0.609</td>\n",
       "      <td>0.004</td>\n",
       "      <td>-0.436</td>\n",
       "      <td>...</td>\n",
       "      <td>0.500</td>\n",
       "      <td>1.354</td>\n",
       "      <td>-0.257</td>\n",
       "      <td>-0.065</td>\n",
       "      <td>-0.039</td>\n",
       "      <td>-0.087</td>\n",
       "      <td>-0.181</td>\n",
       "      <td>0.129</td>\n",
       "      <td>15.99</td>\n",
       "      <td>0</td>\n",
       "    </tr>\n",
       "    <tr>\n",
       "      <th>2</th>\n",
       "      <td>25</td>\n",
       "      <td>1.114</td>\n",
       "      <td>0.086</td>\n",
       "      <td>0.494</td>\n",
       "      <td>1.336</td>\n",
       "      <td>-0.300</td>\n",
       "      <td>-0.011</td>\n",
       "      <td>-0.119</td>\n",
       "      <td>0.189</td>\n",
       "      <td>0.206</td>\n",
       "      <td>...</td>\n",
       "      <td>-0.053</td>\n",
       "      <td>-0.005</td>\n",
       "      <td>-0.031</td>\n",
       "      <td>0.198</td>\n",
       "      <td>0.565</td>\n",
       "      <td>-0.338</td>\n",
       "      <td>0.029</td>\n",
       "      <td>0.004</td>\n",
       "      <td>4.45</td>\n",
       "      <td>0</td>\n",
       "    </tr>\n",
       "    <tr>\n",
       "      <th>3</th>\n",
       "      <td>33</td>\n",
       "      <td>-0.936</td>\n",
       "      <td>0.170</td>\n",
       "      <td>2.746</td>\n",
       "      <td>-1.078</td>\n",
       "      <td>-0.306</td>\n",
       "      <td>0.012</td>\n",
       "      <td>-0.296</td>\n",
       "      <td>0.403</td>\n",
       "      <td>-0.040</td>\n",
       "      <td>...</td>\n",
       "      <td>0.401</td>\n",
       "      <td>1.065</td>\n",
       "      <td>-0.158</td>\n",
       "      <td>0.296</td>\n",
       "      <td>-0.259</td>\n",
       "      <td>0.754</td>\n",
       "      <td>0.047</td>\n",
       "      <td>0.094</td>\n",
       "      <td>9.10</td>\n",
       "      <td>0</td>\n",
       "    </tr>\n",
       "    <tr>\n",
       "      <th>4</th>\n",
       "      <td>35</td>\n",
       "      <td>1.199</td>\n",
       "      <td>0.130</td>\n",
       "      <td>0.864</td>\n",
       "      <td>1.003</td>\n",
       "      <td>-0.784</td>\n",
       "      <td>-0.885</td>\n",
       "      <td>-0.041</td>\n",
       "      <td>-0.208</td>\n",
       "      <td>0.392</td>\n",
       "      <td>...</td>\n",
       "      <td>-0.042</td>\n",
       "      <td>0.198</td>\n",
       "      <td>-0.033</td>\n",
       "      <td>1.013</td>\n",
       "      <td>0.559</td>\n",
       "      <td>0.402</td>\n",
       "      <td>-0.006</td>\n",
       "      <td>0.018</td>\n",
       "      <td>0.99</td>\n",
       "      <td>0</td>\n",
       "    </tr>\n",
       "  </tbody>\n",
       "</table>\n",
       "<p>5 rows × 31 columns</p>\n",
       "</div>"
      ],
      "text/plain": [
       "   Time     V1     V2     V3     V4     V5     V6     V7     V8     V9  ...  \\\n",
       "0    10  0.385  0.616 -0.874 -0.094  2.925  3.317  0.470  0.538 -0.559  ...   \n",
       "1    12 -0.752  0.345  2.057 -1.469 -1.158 -0.078 -0.609  0.004 -0.436  ...   \n",
       "2    25  1.114  0.086  0.494  1.336 -0.300 -0.011 -0.119  0.189  0.206  ...   \n",
       "3    33 -0.936  0.170  2.746 -1.078 -0.306  0.012 -0.296  0.403 -0.040  ...   \n",
       "4    35  1.199  0.130  0.864  1.003 -0.784 -0.885 -0.041 -0.208  0.392  ...   \n",
       "\n",
       "     V21    V22    V23    V24    V25    V26    V27    V28  Amount  Class  \n",
       "0  0.050  0.238  0.009  0.997 -0.767 -0.492  0.042 -0.054    9.99      0  \n",
       "1  0.500  1.354 -0.257 -0.065 -0.039 -0.087 -0.181  0.129   15.99      0  \n",
       "2 -0.053 -0.005 -0.031  0.198  0.565 -0.338  0.029  0.004    4.45      0  \n",
       "3  0.401  1.065 -0.158  0.296 -0.259  0.754  0.047  0.094    9.10      0  \n",
       "4 -0.042  0.198 -0.033  1.013  0.559  0.402 -0.006  0.018    0.99      0  \n",
       "\n",
       "[5 rows x 31 columns]"
      ]
     },
     "execution_count": 20,
     "metadata": {},
     "output_type": "execute_result"
    }
   ],
   "source": [
    "import pandas as pd\n",
    "\n",
    "a = pd.read_csv('creditcard.csv')\n",
    "print(\"Toplam satir sayısı: \", len(a))\n",
    "print(\"Toplam sutun sayısı: \", len(a.columns))\n",
    "a.head()"
   ]
  },
  {
   "cell_type": "markdown",
   "id": "4754d932-29c0-4638-96c0-dbe690952a1a",
   "metadata": {},
   "source": [
    "# 3. Veri Setini Büyütmek\n"
   ]
  },
  {
   "cell_type": "code",
   "execution_count": 6,
   "id": "baf2cda0-2a1d-4bc2-bf3f-f8502ae85796",
   "metadata": {},
   "outputs": [
    {
     "name": "stdout",
     "output_type": "stream",
     "text": [
      "Yeni veri setinin gözlem sayısı:  568740\n"
     ]
    }
   ],
   "source": [
    "import numpy as np\n",
    "\n",
    "n_replicas = 10\n",
    "\n",
    "b = pd.DataFrame(np.repeat(a.values, n_replicas, axis=0), columns=a.columns)\n",
    "\n",
    "print(\"Yeni veri setinin gözlem sayısı: \", len(b))"
   ]
  },
  {
   "cell_type": "markdown",
   "id": "cb56ee83-562c-4e05-b3e8-fb42d65a2c81",
   "metadata": {},
   "source": [
    "Amaç: Veri setinin boyutunu artırarak daha fazla gözlemle çalışmak olabilir. \n",
    "\n",
    "Veri seti, model eğitimi öncesinde çoğaltılır. \n",
    "\n",
    "Genellikle, modelin daha iyi öğrenmesi için yeterli miktarda veriye ihtiyaç duyulur. \n",
    "\n",
    "Özellikle az sayıda gözlem bulunan sınıflar için bu yöntem yararlı olabilir.\n",
    "\n",
    "np.repeat fonksiyonu, mevcut verileri belirtilen sayıda (bu örnekte n_replicas = 10) tekrar ederek yeni bir veri seti oluşturur. \n",
    "\n",
    "a veri setindeki her bir satırı 10 kez (veya belirttiğin n_replicas sayısı kadar) tekrarlar."
   ]
  },
  {
   "cell_type": "markdown",
   "id": "e770e79b-30fc-4281-a36f-1f50ea2b3f3a",
   "metadata": {},
   "source": [
    "# 4. Hedef Değişkenin İncelenmesi\n"
   ]
  },
  {
   "cell_type": "code",
   "execution_count": 7,
   "id": "99c549f4-b40b-4e25-a9b8-b79c6c6a3570",
   "metadata": {},
   "outputs": [
    {
     "data": {
      "image/png": "[encoded data removed]",
      "text/plain": [
       "<Figure size 640x480 with 1 Axes>"
      ]
     },
     "metadata": {},
     "output_type": "display_data"
    }
   ],
   "source": [
    "import matplotlib.pyplot as plt\n",
    "\n",
    "labels = b.Class.unique()\n",
    "sizes = b.Class.value_counts().values\n",
    "\n",
    "fig, ax = plt.subplots()\n",
    "ax.pie(sizes, labels=labels, autopct='%1.3f%%')\n",
    "ax.set_title('Hedef Değişken Dağılımı')\n",
    "plt.show()\n"
   ]
  },
  {
   "cell_type": "markdown",
   "id": "02955bb2-3797-45c6-a4e9-66b3ef18c5a1",
   "metadata": {},
   "source": [
    "b veri setinin Class sütunundaki benzersiz değerleri (sınıfları) alır.\n",
    "\n",
    "Class sütunu, her bir kredi kartı işleminin sahte (fraudulent) veya gerçek (legitimate) olduğunu belirten sınıf etiketlerini içerir.\n",
    "\n",
    "unique() fonksiyonu ile bu sütundaki benzersiz sınıflar elde edilir. Örneğin, bu sınıflar genellikle 0 (gerçek işlem) ve 1 (sahte işlem) olur.\n",
    "\n",
    "Grafik, her sınıfın (örneğin, dolandırıcılık ve dolandırıcılık olmayan işlemler) veri setindeki oranlarını gösterir. Bu bilgi, veri dengesizliği olup olmadığını anlamak için önemlidir. Dengesiz bir veri seti, modelin öğrenme sürecini olumsuz etkileyebilir, bu yüzden böyle bir dağılım analizi yapmak, modelin performansını artırmak için gerekli olabilir."
   ]
  },
  {
   "cell_type": "markdown",
   "id": "b644450f-5d95-447c-aef4-77fb76bb0da9",
   "metadata": {},
   "source": [
    "# 5. İşlem Miktarının Dağılımı\n"
   ]
  },
  {
   "cell_type": "code",
   "execution_count": 8,
   "id": "847320fa-a938-46aa-8829-ee5bb07b647a",
   "metadata": {},
   "outputs": [
    {
     "data": {
      "image/png": "[encoded data removed]",
      "text/plain": [
       "<Figure size 640x480 with 1 Axes>"
      ]
     },
     "metadata": {},
     "output_type": "display_data"
    },
    {
     "name": "stdout",
     "output_type": "stream",
     "text": [
      "Minimum işlem miktarı:  0.0\n",
      "Maksimum işlem miktarı:  7862.39\n",
      "İşlem miktarlarının %90'ı:  204.98\n"
     ]
    }
   ],
   "source": [
    "plt.hist(b.Amount.values, bins=50, color='g')\n",
    "plt.show()\n",
    "\n",
    "print(\"Minimum işlem miktarı: \", np.min(b.Amount.values))\n",
    "print(\"Maksimum işlem miktarı: \", np.max(b.Amount.values))\n",
    "print(\"İşlem miktarlarının %90'ı: \", np.percentile(a.Amount.values, 90))\n"
   ]
  },
  {
   "cell_type": "markdown",
   "id": "2827b686-f73a-49f1-a93e-df212553a2c6",
   "metadata": {},
   "source": [
    "# 6. Veri Ön İşleme\n"
   ]
  },
  {
   "cell_type": "code",
   "execution_count": 9,
   "id": "6ceabd95-7c6b-4227-ba9c-2a533957c8d5",
   "metadata": {},
   "outputs": [
    {
     "name": "stdout",
     "output_type": "stream",
     "text": [
      "X.shape= (568740, 29) y.shape= (568740,)\n"
     ]
    }
   ],
   "source": [
    "from sklearn.preprocessing import StandardScaler, normalize\n",
    "\n",
    "b.iloc[:, 1:30] = StandardScaler().fit_transform(b.iloc[:, 1:30])\n",
    "data_matrix = b.values\n",
    "\n",
    "X = data_matrix[:, 1:30]\n",
    "y = data_matrix[:, 30]\n",
    "\n",
    "X = normalize(X, norm=\"l1\")\n",
    "print('X.shape=', X.shape, 'y.shape=', y.shape)\n"
   ]
  },
  {
   "cell_type": "markdown",
   "id": "6ab08359-9834-4aab-959e-1b83905eb54f",
   "metadata": {},
   "source": [
    "veriyi standartlaştırma ve normalleştirme işlemlerini gerçekleştirir.\n",
    "\n",
    "Bu kodun amacı, makine öğrenimi modeli için veriyi ön işlemek ve hazırlamaktır. \n",
    "\n",
    "Özelliklerin Standartlaştırılması: Modelin performansını artırmak için özelliklerin ortalaması 0 ve standart sapmasını 1 yapilir\n",
    "\n",
    "Veri Matrisinin Oluşturulması: Verinin NumPy dizisi formatına dönüştürülmesi, böylece modelleme işlemleri için daha hızlı ve verimli bir şekilde işlenebilmesi.\n",
    "\n",
    "Eğitim ve Etiketlerin Ayrılması: Özellikler (X) ve etiketler (y) olarak verinin ayrılması, modelin eğitilmesi için gerekli olan giriş ve çıkış verilerinin belirlenmesi.\n",
    "\n",
    "Normalleştirme: Özelliklerin toplamının 1 olacak şekilde ölçeklendirilmesi, modelin daha iyi genelleme yapabilmesi için verilerin homojen hale getirilmesi.\n",
    "\n",
    "Bu adımlar, genellikle aşağıdaki süreçlerin ardından gerçekleştirilir:\n",
    "\n",
    "Veri Yükleme - Veri Keşfi ve Analizi - Öznitelik Seçimi ve Temizleme\n",
    "\n",
    "Bu adımlar tamamlandıktan sonra, veriyi standartlaştırmak, normalleştirmek ve eğitim/test setlerine ayırmak için yukarıdaki işlemler yapılır. Bu süreçler, modelin eğitilmesi için gerekli olan temiz ve uygun veri setini oluşturmak amacıyla gerçekleştirilir."
   ]
  },
  {
   "cell_type": "markdown",
   "id": "a8bcc30f-43e2-4f01-b19e-b722c30f8656",
   "metadata": {},
   "source": [
    "# 7. Veri Setinin Bölünmesi\n"
   ]
  },
  {
   "cell_type": "code",
   "execution_count": 10,
   "id": "1747e0be-28aa-403a-b85d-229c187296a6",
   "metadata": {},
   "outputs": [
    {
     "name": "stdout",
     "output_type": "stream",
     "text": [
      "X_train.shape= (398118, 29) y_train.shape= (398118,)\n",
      "X_test.shape= (170622, 29) y_test.shape= (170622,)\n"
     ]
    }
   ],
   "source": [
    "from sklearn.model_selection import train_test_split\n",
    "\n",
    "X_train, X_test, y_train, y_test = train_test_split(X, y, test_size=0.3, random_state=42, stratify=y)\n",
    "\n",
    "print('X_train.shape=', X_train.shape, 'y_train.shape=', y_train.shape)\n",
    "print('X_test.shape=', X_test.shape, 'y_test.shape=', y_test.shape)\n"
   ]
  },
  {
   "cell_type": "markdown",
   "id": "6bfb0cce-611a-4db0-ba3b-309be2a0f973",
   "metadata": {},
   "source": [
    " veri setini eğitim ve test olarak ikiye ayırır"
   ]
  },
  {
   "cell_type": "markdown",
   "id": "5b511611-8be9-4f25-8c54-d9a573518faf",
   "metadata": {},
   "source": [
    "# 8. Ağırlıkların Hesaplanması\n"
   ]
  },
  {
   "cell_type": "code",
   "execution_count": 21,
   "id": "1d2b9fd8-7903-490c-b404-0faaa800e652",
   "metadata": {},
   "outputs": [],
   "source": [
    "from sklearn.utils.class_weight import compute_sample_weight\n",
    "\n",
    "w_train = compute_sample_weight('balanced', y_train)"
   ]
  },
  {
   "cell_type": "markdown",
   "id": "5ebd9ea8-54b3-40c6-97f6-224114668f41",
   "metadata": {},
   "source": [
    "# 9. Karar Ağacı Modelinin Eğitilmesi\n"
   ]
  },
  {
   "cell_type": "code",
   "execution_count": 19,
   "id": "f022d6fe-e778-42fa-855a-8a822d1e9a20",
   "metadata": {},
   "outputs": [
    {
     "name": "stdout",
     "output_type": "stream",
     "text": [
      "[Scikit-Learn] Eğitim süresi (s): 6.17610\n",
      "[Snap ML] Eğitim süresi (s): 0.66675\n"
     ]
    }
   ],
   "source": [
    "from sklearn.tree import DecisionTreeClassifier\n",
    "import time\n",
    "\n",
    "sklearn_dt = DecisionTreeClassifier(max_depth=4, random_state=35)\n",
    "t0 = time.time()\n",
    "sklearn_dt.fit(X_train, y_train, sample_weight=w_train)\n",
    "sklearn_time = time.time() - t0\n",
    "print(\"[Scikit-Learn] Eğitim süresi (s): {0:.5f}\".format(sklearn_time))\n",
    "\n",
    "\n",
    "\n",
    "from snapml import DecisionTreeClassifier\n",
    "\n",
    "snapml_dt = DecisionTreeClassifier(max_depth=4, random_state=45, n_jobs=4)\n",
    "t0 = time.time()\n",
    "snapml_dt.fit(X_train, y_train, sample_weight=w_train)\n",
    "snapml_time = time.time() - t0\n",
    "print(\"[Snap ML] Eğitim süresi (s): {0:.5f}\".format(snapml_time))"
   ]
  },
  {
   "cell_type": "markdown",
   "id": "ef258c11-032b-43c7-be50-33335e98e0f3",
   "metadata": {},
   "source": [
    "modellerin eğitim süresi ölçülür.\n",
    "\n",
    "Model Sınıflandırdı\n",
    "işlem başlamadan önce geçerli zaman damgasını alarak t0 değişkenine atar.\n",
    "Modeli Eğitti\n",
    "Tahmin Yapma Zamanını Ölçtü\n",
    "Sonuçları Yazdırdı"
   ]
  },
  {
   "cell_type": "markdown",
   "id": "cb9abbb7-27ad-4278-b369-20075b626890",
   "metadata": {},
   "source": [
    "# 10. Model Performansının Değerlendirilmesi\n"
   ]
  },
  {
   "cell_type": "code",
   "execution_count": 14,
   "id": "e57a2bd2-ea53-4699-9cc3-4c1345c2a2d9",
   "metadata": {},
   "outputs": [
    {
     "name": "stdout",
     "output_type": "stream",
     "text": [
      "[Scikit-Learn] ROC-AUC skoru: 0.997\n",
      "[Snap ML] ROC-AUC skoru: 0.997\n"
     ]
    }
   ],
   "source": [
    "from sklearn.metrics import roc_auc_score\n",
    "\n",
    "sklearn_pred = sklearn_dt.predict_proba(X_test)[:,1]\n",
    "sklearn_roc_auc = roc_auc_score(y_test, sklearn_pred)\n",
    "print('[Scikit-Learn] ROC-AUC skoru: {0:.3f}'.format(sklearn_roc_auc))\n",
    "\n",
    "snapml_pred = snapml_dt.predict_proba(X_test)[:,1]\n",
    "snapml_roc_auc = roc_auc_score(y_test, snapml_pred)\n",
    "print('[Snap ML] ROC-AUC skoru: {0:.3f}'.format(snapml_roc_auc))"
   ]
  },
  {
   "cell_type": "markdown",
   "id": "43595ef3-0ff2-4eb1-811b-1d7ab42cb966",
   "metadata": {},
   "source": [
    "Scikit-Learn ve Snap ML ile eğitilen Karar Ağacı modellerinin performansını ROC-AUC skoru ile karşılaştırildi.\n",
    "\n",
    "ROC-AUC skoru, pozitif sınıfın doğru sınıflandırılma performansını ölçer. Skor ne kadar yüksekse, modelin performansı o kadar iyidir.\n",
    "\n",
    "Bu karşılaştırma ile Snap ML ve Scikit-Learn kütüphanelerinin aynı modelde nasıl performans gösterdiğini anlayabilirsiniz. "
   ]
  },
  {
   "cell_type": "markdown",
   "id": "b90a44e4-3408-4cae-954f-b6494ed07fc4",
   "metadata": {},
   "source": [
    "# 11. Destek Vektör Makineleri Modelinin Eğitilmesi\n"
   ]
  },
  {
   "cell_type": "code",
   "execution_count": 15,
   "id": "9a98babe-3a4a-4706-9d34-c3be6e9d4a05",
   "metadata": {},
   "outputs": [
    {
     "name": "stdout",
     "output_type": "stream",
     "text": [
      "[Scikit-Learn] Eğitim süresi (s): 9.21\n",
      "[Snap ML] Eğitim süresi (s): 2.80\n"
     ]
    }
   ],
   "source": [
    "from sklearn.svm import LinearSVC\n",
    "\n",
    "sklearn_svm = LinearSVC(class_weight='balanced', random_state=31, loss=\"hinge\", fit_intercept=False)\n",
    "t0 = time.time()\n",
    "sklearn_svm.fit(X_train, y_train)\n",
    "sklearn_time = time.time() - t0\n",
    "print(\"[Scikit-Learn] Eğitim süresi (s): {0:.2f}\".format(sklearn_time))\n",
    "\n",
    "from snapml import SupportVectorMachine\n",
    "\n",
    "snapml_svm = SupportVectorMachine(class_weight='balanced', random_state=25, n_jobs=4, fit_intercept=False)\n",
    "t0 = time.time() #Snap ML modelinin eğitim süresi ölçümüne başlanır.\n",
    "snapml_svm.fit(X_train, y_train)\n",
    "snapml_time = time.time() - t0 #Snap ML modelinin eğitim süresi hesaplanır.\n",
    "print(\"[Snap ML] Eğitim süresi (s): {0:.2f}\".format(snapml_time))\n"
   ]
  },
  {
   "cell_type": "markdown",
   "id": "6b2027ff-b432-48e1-b36f-fa9e9b6f8991",
   "metadata": {},
   "source": [
    "Bu kod, Scikit-Learn ve Snap ML kütüphaneleriyle bir Support Vector Machine (SVM) modelini eğitmek ve eğitim sürelerini karşılaştırmak amacıyla yazılmıştır. \n",
    "\n",
    " Bu kod, Snap ML’in eğitim süresinde Scikit-Learn'e göre ne kadar avantaj sağladığını göstermek için kullanılır.\n",
    "\n",
    " Bu şekilde, Snap ML’in daha hızlı sonuçlar üretip üretmediği ve aynı performansı daha kısa sürede sağlayıp sağlamadığı gözlemlenebilir."
   ]
  },
  {
   "cell_type": "markdown",
   "id": "d9c14707-0f83-4637-af0a-dc53f4ba9067",
   "metadata": {},
   "source": [
    "# 12. Model Performansının Değerlendirilmesi\n"
   ]
  },
  {
   "cell_type": "code",
   "execution_count": 16,
   "id": "3589e930-2d6b-45f0-9b7b-acc2ed52d02e",
   "metadata": {},
   "outputs": [
    {
     "name": "stdout",
     "output_type": "stream",
     "text": [
      "[Scikit-Learn] ROC-AUC skoru: 0.995\n",
      "[Snap ML] ROC-AUC skoru: 0.995\n"
     ]
    }
   ],
   "source": [
    "sklearn_pred = sklearn_svm.decision_function(X_test)\n",
    "acc_sklearn = roc_auc_score(y_test, sklearn_pred)\n",
    "print(\"[Scikit-Learn] ROC-AUC skoru: {0:.3f}\".format(acc_sklearn))\n",
    "\n",
    "snapml_pred = snapml_svm.decision_function(X_test)\n",
    "acc_snapml = roc_auc_score(y_test, snapml_pred)\n",
    "print(\"[Snap ML] ROC-AUC skoru: {0:.3f}\".format(acc_snapml))\n"
   ]
  },
  {
   "cell_type": "markdown",
   "id": "fb8a8dc9-a3e5-4e66-8ca1-527c261fb2cf",
   "metadata": {},
   "source": [
    "Scikit-Learn ve Snap ML kütüphaneleriyle eğitilen SVM (Support Vector Machine) modellerinin performansı ROC-AUC metriği kullanılarak karşılaştırılmaktadır.\n",
    "\n",
    "ROC-AUC, sınıflandırma problemlerinde yaygın olarak kullanılan bir performans metriğidir.\n",
    "\n",
    "(X_test) örnekler için sınıflandırma kararlarını (decision function) hesaplar."
   ]
  },
  {
   "cell_type": "markdown",
   "id": "d3a9416e-4e29-43c0-be75-77c869ffd41e",
   "metadata": {},
   "source": [
    "# 13. Hinge Kaybının Hesaplanması\n"
   ]
  },
  {
   "cell_type": "code",
   "execution_count": 17,
   "id": "74b5e0e8-5bb6-4b9b-bc53-0b90c3d2b8de",
   "metadata": {},
   "outputs": [
    {
     "name": "stdout",
     "output_type": "stream",
     "text": [
      "[Snap ML] Hinge kaybı: 0.393\n",
      "[Scikit-Learn] Hinge kaybı: 0.402\n"
     ]
    }
   ],
   "source": [
    "from sklearn.metrics import hinge_loss\n",
    "\n",
    "loss_snapml = hinge_loss(y_test, snapml_pred)\n",
    "print(\"[Snap ML] Hinge kaybı: {0:.3f}\".format(loss_snapml))\n",
    "\n",
    "loss_sklearn = hinge_loss(y_test, sklearn_pred)\n",
    "print(\"[Scikit-Learn] Hinge kaybı: {0:.3f}\".format(loss_sklearn))\n"
   ]
  },
  {
   "cell_type": "markdown",
   "id": "b774c4ff-c6e3-40b4-986b-a285d0c2c8c0",
   "metadata": {},
   "source": [
    "Bu kodun amacı, Snap ML ve Scikit-Learn kütüphaneleri tarafından yapılan tahminlerin performansını karşılaştırmakiçin hinge loss (hinge kaybı) metriğini kullanmaktır.\n",
    "\n",
    "hinge_loss fonksiyonu, tahminlerin kalitesini ölçer. \n",
    "\n",
    "Gerçek etiketlerle (y_test) modelin tahmin ettiği etiketler (snapml_pred) arasındaki farkı ölçerek modelin ne kadar iyi performans gösterdiğini gösterir. \n",
    "\n",
    "Snap ML modelinin ne kadar iyi performans gösterdiği hakkında bilgi verir. \n",
    "\n",
    "Daha düşük bir hinge loss, modelin daha iyi performans gösterdiği anlamına gelir.\n",
    "\n",
    "diger adımda ise Scikit-Learn ile eğitilen modelin tahminleri (sklearn_pred) ile gerçek etiketler (y_test) arasındaki fark kullanılarak hinge loss hesaplanır."
   ]
  }
 ],
 "metadata": {
  "kernelspec": {
   "display_name": "Python 3 (ipykernel)",
   "language": "python",
   "name": "python3"
  },
  "language_info": {
   "codemirror_mode": {
    "name": "ipython",
    "version": 3
   },
   "file_extension": ".py",
   "mimetype": "text/x-python",
   "name": "python",
   "nbconvert_exporter": "python",
   "pygments_lexer": "ipython3",
   "version": "3.11.7"
  }
 },
 "nbformat": 4,
 "nbformat_minor": 5
}
