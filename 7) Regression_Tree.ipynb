{
 "cells": [
  {
   "cell_type": "markdown",
   "id": "7dca40b2-8e2e-4282-bbb1-c057f361350c",
   "metadata": {},
   "source": [
    "Bu kodun amacı, NYC taksi bahşiş miktarını tahmin etmek için karar ağaçları kullanarak bir regresyon modeli oluşturmaktır. Gerçek bir veri seti olan 2019 Haziran ayına ait taksi kayıtları kullanılarak, veriler öncelikle temizlenir ve işlenir. Ardından, Scikit-Learn ve Snap ML kütüphaneleri kullanılarak iki farklı karar ağacı regresyon modeli eğitilir. Son olarak, her iki modelin eğitim süresi ve tahmin doğruluğu karşılaştırılır, böylece Snap ML'nin eğitimde sağladığı hız avantajı vurgulanır."
   ]
  },
  {
   "cell_type": "code",
   "execution_count": 11,
   "id": "ae6d8ddb-a219-4992-893a-d548c07b1d5b",
   "metadata": {},
   "outputs": [],
   "source": [
    "from __future__ import print_function\n",
    "import numpy as np\n",
    "import pandas as pd\n",
    "import matplotlib.pyplot as plt\n",
    "%matplotlib inline\n",
    "from sklearn.model_selection import train_test_split\n",
    "from sklearn.preprocessing import normalize\n",
    "from sklearn.metrics import mean_squared_error\n",
    "import time\n",
    "import gc\n"
   ]
  },
  {
   "cell_type": "markdown",
   "id": "dcb79c5d-cb59-48d2-8144-37fdf95b1a7b",
   "metadata": {},
   "source": [
    "# 1. Veriyi Okuma ve Temizleme\n"
   ]
  },
  {
   "cell_type": "markdown",
   "id": "4e016060-13cb-4243-8aae-1b0bec63acc0",
   "metadata": {},
   "source": [
    "## 1.1. Veriyi Okuma"
   ]
  },
  {
   "cell_type": "code",
   "execution_count": 20,
   "id": "0bb0009a-02bc-49a9-af9f-1a67af1fed93",
   "metadata": {},
   "outputs": [
    {
     "name": "stdout",
     "output_type": "stream",
     "text": [
      "Datasette 3936004 gözlem var.\n",
      "Datasette 18 değişken var.\n"
     ]
    }
   ],
   "source": [
    "# Veriyi okuma\n",
    "raw_data = pd.read_csv('yellow_tripdata_2019-06.csv')\n",
    "print(\"Datasette \" + str(len(raw_data)) + \" gözlem var.\")\n",
    "print(\"Datasette \" + str(len(raw_data.columns)) + \" değişken var.\")\n"
   ]
  },
  {
   "cell_type": "markdown",
   "id": "3fdacb9a-376d-4c48-914b-3b687b2d0b57",
   "metadata": {},
   "source": [
    "## 1.2. Veriyi Temizleme"
   ]
  },
  {
   "cell_type": "code",
   "execution_count": 21,
   "id": "6f055495-ea16-409c-a6f8-ff83490cdccc",
   "metadata": {},
   "outputs": [
    {
     "name": "stdout",
     "output_type": "stream",
     "text": [
      "Datasette 65349 gözlem var.\n",
      "Datasette 17 değişken var.\n"
     ]
    }
   ],
   "source": [
    "# İlk 100.000 kaydı kullan\n",
    "raw_data = raw_data.head(100000)  # Verinin ilk 100.000 kaydını alarak işlemlere başla\n",
    "\n",
    "# Temizleme işlemleri\n",
    "raw_data = raw_data[raw_data['tip_amount'] > 0]  # Bahşiş miktarı sıfırdan büyük olanları tut\n",
    "raw_data = raw_data[raw_data['tip_amount'] <= raw_data['fare_amount']]  # Bahşiş miktarı, ücret miktarını aşmamalı\n",
    "raw_data = raw_data[(raw_data['fare_amount'] >= 2) & (raw_data['fare_amount'] < 200)]  # Ücret miktarı belirli bir aralıkta olmalı\n",
    "clean_data = raw_data.drop(['total_amount'], axis=1)  # 'total_amount' sütununu çıkararak temiz veri seti oluştur\n",
    "\n",
    "# Bellek temizliği\n",
    "del raw_data  # Geçici raw_data değişkenini sil\n",
    "gc.collect()  # Belleği temizle\n",
    "\n",
    "# Kalan kayıt sayısını göster\n",
    "print(\"Datasette \" + str(len(clean_data)) + \" gözlem var.\")  # Kalan gözlem sayısını yazdır\n",
    "print(\"Datasette \" + str(len(clean_data.columns)) + \" değişken var.\")  # Kalan değişken sayısını yazdır\n"
   ]
  },
  {
   "cell_type": "markdown",
   "id": "d6f57426-9430-4b5c-9795-b768ab7ad72e",
   "metadata": {},
   "source": [
    "# 2.Bahşiş Dağılımını Gösterme"
   ]
  },
  {
   "cell_type": "code",
   "execution_count": 22,
   "id": "78324bd5-7668-4727-9e24-6e3b9a0a9cf3",
   "metadata": {},
   "outputs": [
    {
     "data": {
      "image/png": "[encoded data removed]",
      "text/plain": [
       "<Figure size 640x480 with 1 Axes>"
      ]
     },
     "metadata": {},
     "output_type": "display_data"
    }
   ],
   "source": [
    "# Bahşiş dağılımını göster\n",
    "plt.hist(clean_data.tip_amount.values, bins=16, color='g', edgecolor='black')  # Bahşiş miktarlarını 16 kutuya ayırarak histogram oluştur\n",
    "plt.title('Bahşiş Miktarının Dağılımı')  # Grafiğin başlığını ayarla\n",
    "plt.xlabel('Bahşiş Miktarı')  # X ekseninin etiketini ayarla\n",
    "plt.ylabel('Frekans')  # Y ekseninin etiketini ayarla\n",
    "plt.show()  # Grafiği göster"
   ]
  },
  {
   "cell_type": "markdown",
   "id": "8716e24a-db76-44da-8891-914cb8a6c3e2",
   "metadata": {},
   "source": [
    "# 3.Veri Ön İşleme"
   ]
  },
  {
   "cell_type": "markdown",
   "id": "5cc7e50b-f745-4c40-97e8-c9784f4a8fd6",
   "metadata": {},
   "source": [
    "## 3.1. Tarih Alanlarını Dönüştürme"
   ]
  },
  {
   "cell_type": "code",
   "execution_count": 29,
   "id": "43268066-37ae-42f2-9a24-0b3f32984ab6",
   "metadata": {},
   "outputs": [],
   "source": [
    "# Tarih alanlarını dönüştür\n",
    "clean_data['tpep_dropoff_datetime'] = pd.to_datetime(clean_data['tpep_dropoff_datetime']) \n",
    "# 'tpep_dropoff_datetime' sütununu datetime formatına çevir\n",
    "clean_data['tpep_pickup_datetime'] = pd.to_datetime(clean_data['tpep_pickup_datetime']) \n",
    "# 'tpep_pickup_datetime' sütununu datetime formatına çevir\n"
   ]
  },
  {
   "cell_type": "markdown",
   "id": "942ae909-54fc-41e1-85dd-feb20d23a791",
   "metadata": {},
   "source": [
    "## 3.2. Yeni Özelliklerin Oluşturulması"
   ]
  },
  {
   "cell_type": "code",
   "execution_count": 30,
   "id": "15ec3a58-c3ac-4507-8271-0cd1e827eeab",
   "metadata": {},
   "outputs": [],
   "source": [
    "# Pickup ve dropoff saatlerini çıkar\n",
    "clean_data['pickup_hour'] = clean_data['tpep_pickup_datetime'].dt.hour\n",
    "clean_data['dropoff_hour'] = clean_data['tpep_dropoff_datetime'].dt.hour\n",
    "\n",
    "# Pickup ve dropoff günlerini çıkar\n",
    "clean_data['pickup_day'] = clean_data['tpep_pickup_datetime'].dt.weekday\n",
    "clean_data['dropoff_day'] = clean_data['tpep_dropoff_datetime'].dt.weekday\n",
    "\n",
    "# Seyahat süresini dakika cinsinden hesapla\n",
    "clean_data['trip_time'] = (clean_data['tpep_dropoff_datetime'] - clean_data['tpep_pickup_datetime']).dt.total_seconds() / 60\n"
   ]
  },
  {
   "cell_type": "markdown",
   "id": "7407db1e-df25-4f75-90e6-6d089a27c5eb",
   "metadata": {},
   "source": [
    "## 3.3. Ön İşlenmiş Verinin Boyutunu Ayarlama"
   ]
  },
  {
   "cell_type": "code",
   "execution_count": 31,
   "id": "6dc3b218-db1c-499c-a5d5-1e71f9fc7979",
   "metadata": {},
   "outputs": [],
   "source": [
    "# Ön işlenmiş verinin boyutunu ayarla\n",
    "clean_data = clean_data.head(100000)\n",
    "\n",
    "# Tarih alanlarını çıkar\n",
    "clean_data = clean_data.drop(['tpep_pickup_datetime', 'tpep_dropoff_datetime'], axis=1)\n"
   ]
  },
  {
   "cell_type": "markdown",
   "id": "fce3ca3b-d635-4b79-9be4-f8c2b1266484",
   "metadata": {},
   "source": [
    "## 3.4. Kategorik Özelliklerin Dönüştürülmesi"
   ]
  },
  {
   "cell_type": "code",
   "execution_count": 32,
   "id": "11e9b884-1df0-4847-babc-207f5ebe682c",
   "metadata": {},
   "outputs": [
    {
     "data": {
      "text/plain": [
       "790"
      ]
     },
     "execution_count": 32,
     "metadata": {},
     "output_type": "execute_result"
    }
   ],
   "source": [
    "# Kategorik özellikleri one-hot encoding ile dönüştür\n",
    "get_dummy_col = [\"VendorID\", \"RatecodeID\", \"store_and_fwd_flag\", \"PULocationID\", \"DOLocationID\", \"payment_type\", \"pickup_hour\", \"dropoff_hour\", \"pickup_day\", \"dropoff_day\"]  # One-hot encoding uygulanacak kategorik sütunları tanımla\n",
    "proc_data = pd.get_dummies(clean_data, columns=get_dummy_col)  # Belirtilen sütunlar için one-hot encoding uygula\n",
    "\n",
    "# Bellek temizliği\n",
    "del clean_data  # Geçici clean_data değişkenini sil\n",
    "gc.collect()  # Belleği temizle\n"
   ]
  },
  {
   "cell_type": "markdown",
   "id": "0cb43344-1688-43be-b952-2505d2ea9fef",
   "metadata": {},
   "source": [
    "# 4.Hedef Değişken ve Özelliklerin Ayrılması"
   ]
  },
  {
   "cell_type": "code",
   "execution_count": 33,
   "id": "c1c19245-728b-4cfc-91ef-b201e8197f98",
   "metadata": {},
   "outputs": [
    {
     "name": "stdout",
     "output_type": "stream",
     "text": [
      "X.shape= (65349, 460) y.shape= (65349, 1)\n"
     ]
    }
   ],
   "source": [
    "# Hedef değişken ve özellik matrisini ayır\n",
    "y = proc_data[['tip_amount']].values.astype('float32')  # Hedef değişken olan 'tip_amount' sütununu al ve float32 formatına çevir\n",
    "proc_data = proc_data.drop(['tip_amount'], axis=1)  # Hedef değişkeni özellik matrisinden çıkar\n",
    "X = proc_data.values  # Kalan özellikleri özellik matrisine ata\n",
    "\n",
    "# Özellik matrisini normalize et\n",
    "X = normalize(X, axis=1, norm='l1')  # Özellik matrisini L1 normu kullanarak normalize et\n",
    "\n",
    "# Özellik ve etiket matrisinin boyutunu göster\n",
    "print('X.shape=', X.shape, 'y.shape=', y.shape)  # Özellik ve etiket matrisinin boyutlarını yazdır\n"
   ]
  },
  {
   "cell_type": "markdown",
   "id": "8554a0ea-d1de-4af2-a5f0-0caa4ba3e3b4",
   "metadata": {},
   "source": [
    "# 5.Eğitim/Test Verisi Bölme"
   ]
  },
  {
   "cell_type": "code",
   "execution_count": 34,
   "id": "f8baae1e-20bc-489e-81a7-83aaa7d36fad",
   "metadata": {},
   "outputs": [
    {
     "name": "stdout",
     "output_type": "stream",
     "text": [
      "X_train.shape= (45744, 460) y_train.shape= (45744, 1)\n",
      "X_test.shape= (19605, 460) y_test.shape= (19605, 1)\n"
     ]
    }
   ],
   "source": [
    "# Veriyi eğitim ve test setlerine ayır\n",
    "X_train, X_test, y_train, y_test = train_test_split(X, y, test_size=0.3, random_state=42)\n",
    "print('X_train.shape=', X_train.shape, 'y_train.shape=', y_train.shape)\n",
    "print('X_test.shape=', X_test.shape, 'y_test.shape=', y_test.shape)\n"
   ]
  },
  {
   "cell_type": "markdown",
   "id": "0cd18d37-d441-4819-8e39-907f867c7022",
   "metadata": {},
   "source": [
    "# 6.Model Oluşturma ve Eğitme"
   ]
  },
  {
   "cell_type": "markdown",
   "id": "82b7cc57-62eb-4b93-a552-e9affd6d10f3",
   "metadata": {},
   "source": [
    "## 6.1. Scikit-Learn ile Karar Ağaçları Modeli"
   ]
  },
  {
   "cell_type": "code",
   "execution_count": 35,
   "id": "cc2265bf-22dd-49a9-b64b-b336fcf79a56",
   "metadata": {},
   "outputs": [
    {
     "name": "stdout",
     "output_type": "stream",
     "text": [
      "[Scikit-Learn] Eğitim süresi (s): 2.93407\n"
     ]
    }
   ],
   "source": [
    "from sklearn.tree import DecisionTreeRegressor  # Karar ağaçları regresyon modelini sklearn kütüphanesinden içe aktar\n",
    "\n",
    "# Karar ağaçları modelini tanımla ve eğit\n",
    "sklearn_dt = DecisionTreeRegressor(max_depth=8, random_state=35)  # Maksimum derinliği 8 olan karar ağacı modelini oluştur\n",
    "t0 = time.time()  # Eğitim süresini ölçmek için başlangıç zamanını al\n",
    "sklearn_dt.fit(X_train, y_train)  # Modeli eğitim verisi ile eğit\n",
    "sklearn_time = time.time() - t0  # Eğitim süresini hesapla\n",
    "print(\"[Scikit-Learn] Eğitim süresi (s): {0:.5f}\".format(sklearn_time))  # Eğitim süresini yazdır\n"
   ]
  },
  {
   "cell_type": "markdown",
   "id": "8d3fc8e1-ae94-410f-8f4d-b91e8fa6f844",
   "metadata": {},
   "source": [
    "## 6.2. Snap ML ile Karar Ağaçları Modeli"
   ]
  },
  {
   "cell_type": "code",
   "execution_count": 36,
   "id": "06a2a693-50b8-4f07-a4fb-6e16a77f86a9",
   "metadata": {},
   "outputs": [
    {
     "name": "stdout",
     "output_type": "stream",
     "text": [
      "[Snap ML] Eğitim süresi (s): 0.81889\n"
     ]
    }
   ],
   "source": [
    "from snapml import DecisionTreeRegressor  # Snap ML kütüphanesinden karar ağaçları regresyon modelini içe aktar\n",
    "\n",
    "# Snap ML karar ağaçları modelini tanımla ve eğit\n",
    "snapml_dt = DecisionTreeRegressor(max_depth=8, random_state=45, n_jobs=4)  # Maksimum derinliği 8 olan karar ağacı modelini oluştur, 4 CPU iş parçacığı kullan\n",
    "t0 = time.time()  # Eğitim süresini ölçmek için başlangıç zamanını al\n",
    "snapml_dt.fit(X_train, y_train)  # Modeli eğitim verisi ile eğit\n",
    "snapml_time = time.time() - t0  # Eğitim süresini hesapla\n",
    "print(\"[Snap ML] Eğitim süresi (s): {0:.5f}\".format(snapml_time))  # Eğitim süresini yazdır\n"
   ]
  },
  {
   "cell_type": "markdown",
   "id": "edbf4d69-63ce-48b1-a342-1ca1179fc288",
   "metadata": {},
   "source": [
    "# 7.Modellerin Değerlendirilmesi"
   ]
  },
  {
   "cell_type": "markdown",
   "id": "efd41d0c-dfaf-4c56-bf19-3519a39a5228",
   "metadata": {},
   "source": [
    "## 7.1. Eğitim Sürelerinin Karşılaştırılması"
   ]
  },
  {
   "cell_type": "code",
   "execution_count": 37,
   "id": "ebf7bdbd-51ce-4189-b677-4f4ca943733d",
   "metadata": {},
   "outputs": [
    {
     "name": "stdout",
     "output_type": "stream",
     "text": [
      "[Karar Ağaçları Regresyonu] Snap ML vs. Scikit-Learn hızlanması: 3.58x\n"
     ]
    }
   ],
   "source": [
    "# Eğitim sürelerini karşılaştır\n",
    "training_speedup = sklearn_time / snapml_time\n",
    "print('[Karar Ağaçları Regresyonu] Snap ML vs. Scikit-Learn hızlanması: {0:.2f}x'.format(training_speedup))\n"
   ]
  },
  {
   "cell_type": "markdown",
   "id": "028fa4fb-e044-45e3-b3ee-137aa0422f0a",
   "metadata": {},
   "source": [
    "## 7.2. MSE Hesaplama"
   ]
  },
  {
   "cell_type": "code",
   "execution_count": 39,
   "id": "e7bae4f6-009d-4077-87d3-b541126787f6",
   "metadata": {},
   "outputs": [
    {
     "name": "stdout",
     "output_type": "stream",
     "text": [
      "[Scikit-Learn] MSE skoru: 1.621\n",
      "[Snap ML] MSE skoru: 1.694\n"
     ]
    }
   ],
   "source": [
    "# Scikit-Learn modeli ile tahmin yap ve MSE hesapla\n",
    "sklearn_pred = sklearn_dt.predict(X_test)\n",
    "sklearn_mse = mean_squared_error(y_test, sklearn_pred)\n",
    "print('[Scikit-Learn] MSE skoru: {0:.3f}'.format(sklearn_mse))\n",
    "\n",
    "# Snap ML modeli ile tahmin yap ve MSE hesapla\n",
    "snapml_pred = snapml_dt.predict(X_test)\n",
    "snapml_mse = mean_squared_error(y_test, snapml_pred)\n",
    "print('[Snap ML] MSE skoru: {0:.3f}'.format(snapml_mse))\n"
   ]
  },
  {
   "cell_type": "code",
   "execution_count": null,
   "id": "e533f196-116a-416a-8a1c-25ecdc0b70ef",
   "metadata": {},
   "outputs": [],
   "source": []
  }
 ],
 "metadata": {
  "kernelspec": {
   "display_name": "Python 3 (ipykernel)",
   "language": "python",
   "name": "python3"
  },
  "language_info": {
   "codemirror_mode": {
    "name": "ipython",
    "version": 3
   },
   "file_extension": ".py",
   "mimetype": "text/x-python",
   "name": "python",
   "nbconvert_exporter": "python",
   "pygments_lexer": "ipython3",
   "version": "3.11.7"
  }
 },
 "nbformat": 4,
 "nbformat_minor": 5
}
